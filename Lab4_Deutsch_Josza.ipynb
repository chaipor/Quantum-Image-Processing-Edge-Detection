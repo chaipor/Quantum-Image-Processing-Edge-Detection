{
 "cells": [
  {
   "cell_type": "markdown",
   "metadata": {},
   "source": [
    "# Lab 4 Deutsch-Josza\n",
    "by Ruth Phatanacharoen ruth@meetoosoft.com"
   ]
  },
  {
   "cell_type": "code",
   "execution_count": 1,
   "metadata": {},
   "outputs": [],
   "source": [
    "from qiskit import QuantumCircuit, execute, Aer, BasicAer\n",
    "from qiskit.visualization import plot_histogram\n",
    "\n",
    "import numpy as np\n"
   ]
  },
  {
   "cell_type": "code",
   "execution_count": 2,
   "metadata": {},
   "outputs": [
    {
     "data": {
      "image/png": "[encoded data removed]",
      "text/plain": [
       "<Figure size 86.5974x264.88 with 1 Axes>"
      ]
     },
     "metadata": {},
     "output_type": "display_data"
    },
    {
     "data": {
      "image/png": "[encoded data removed]",
      "text/plain": [
       "<Figure size 146.797x264.88 with 1 Axes>"
      ]
     },
     "metadata": {},
     "output_type": "display_data"
    }
   ],
   "source": [
    "n=3\n",
    "f0allx = QuantumCircuit(n+1) #constant oracle for f(x)=0 for all x\n",
    "\n",
    "\n",
    "display(f0allx.draw('mpl'))\n",
    "\n",
    "f1allx = QuantumCircuit(n+1) #constant oracle for f(x)=1 for all x\n",
    "f1allx.x(n)\n",
    "\n",
    "display(f1allx.draw('mpl'))"
   ]
  },
  {
   "cell_type": "code",
   "execution_count": 3,
   "metadata": {},
   "outputs": [
    {
     "data": {
      "text/html": [
       "<pre style=\"word-wrap: normal;white-space: pre;background: #fff0;line-height: 1.1;font-family: &quot;Courier New&quot;,Courier,monospace\">                ░ ┌───┐     ┌───┐      ░ \n",
       "q_0: ───────────░─┤ X ├──■──┤ X ├──────░─\n",
       "                ░ └───┘  │  └───┘      ░ \n",
       "q_1: ───────────░────────┼─────────────░─\n",
       "                ░ ┌───┐  │       ┌───┐ ░ \n",
       "q_2: ───────────░─┤ X ├──┼────■──┤ X ├─░─\n",
       "     ┌───┐┌───┐ ░ └───┘┌─┴─┐┌─┴─┐└───┘ ░ \n",
       "q_3: ┤ X ├┤ H ├─░──────┤ X ├┤ X ├──────░─\n",
       "     └───┘└───┘ ░      └───┘└───┘      ░ </pre>"
      ],
      "text/plain": [
       "                ░ ┌───┐     ┌───┐      ░ \n",
       "q_0: ───────────░─┤ X ├──■──┤ X ├──────░─\n",
       "                ░ └───┘  │  └───┘      ░ \n",
       "q_1: ───────────░────────┼─────────────░─\n",
       "                ░ ┌───┐  │       ┌───┐ ░ \n",
       "q_2: ───────────░─┤ X ├──┼────■──┤ X ├─░─\n",
       "     ┌───┐┌───┐ ░ └───┘┌─┴─┐┌─┴─┐└───┘ ░ \n",
       "q_3: ┤ X ├┤ H ├─░──────┤ X ├┤ X ├──────░─\n",
       "     └───┘└───┘ ░      └───┘└───┘      ░ "
      ]
     },
     "execution_count": 3,
     "metadata": {},
     "output_type": "execute_result"
    }
   ],
   "source": [
    "\n",
    "f01half = QuantumCircuit(n+1)\n",
    "xgates = \"101\"\n",
    "cxgates= \"101\"\n",
    "\n",
    "\n",
    "# Put ancilia qubit in state |->\n",
    "f01half.x(n)\n",
    "f01half.h(n)\n",
    "\n",
    "f01half.barrier()\n",
    "# Place X-gates before implementing CX gates in the next loop\n",
    "for i in range(n):\n",
    "    if xgates[i] == '1':\n",
    "        f01half.x(i)\n",
    "\n",
    "\n",
    "\n",
    "\n",
    "# Place CX-gates to give phase at desired combinations\n",
    "for m in range(n):\n",
    "    if cxgates[m] == '1':\n",
    "        f01half.cx(m,n)\n",
    "\n",
    "\n",
    "# Place X-gates again to revert to original inputs on 0 to n-1 qubits\n",
    "for k in range(n):\n",
    "    if xgates[k] == '1':\n",
    "        f01half.x(k)\n",
    "f01half.barrier()\n",
    "# Show oracle\n",
    "f01half.draw()"
   ]
  },
  {
   "cell_type": "code",
   "execution_count": 4,
   "metadata": {},
   "outputs": [
    {
     "data": {
      "image/png": "[encoded data removed]",
      "text/plain": [
       "<Figure size 1049.8x325.08 with 1 Axes>"
      ]
     },
     "execution_count": 4,
     "metadata": {},
     "output_type": "execute_result"
    }
   ],
   "source": [
    "dj_circuit = QuantumCircuit(n+1, n)\n",
    "\n",
    "# Apply H-gates\n",
    "for qubit in range(n):\n",
    "    dj_circuit.h(qubit)\n",
    "\n",
    "\n",
    "\n",
    "dj_circuit.barrier()\n",
    "# Add oracle\n",
    "dj_circuit =dj_circuit + f01half\n",
    "dj_circuit.barrier()\n",
    "# Repeat H-gates\n",
    "for qubit in range(n):\n",
    "    dj_circuit.h(qubit)\n",
    "dj_circuit.barrier()\n",
    "\n",
    "# Measure\n",
    "for i in range(n):\n",
    "    dj_circuit.measure(i, i)\n",
    "\n",
    "# Display circuit\n",
    "dj_circuit.draw('mpl')"
   ]
  },
  {
   "cell_type": "code",
   "execution_count": 6,
   "metadata": {},
   "outputs": [
    {
     "data": {
      "image/png": "[encoded data removed]",
      "text/plain": [
       "<Figure size 504x360 with 1 Axes>"
      ]
     },
     "execution_count": 6,
     "metadata": {},
     "output_type": "execute_result"
    }
   ],
   "source": [
    "# use local simulator\n",
    "backend = BasicAer.get_backend('qasm_simulator')\n",
    "shots = 1024\n",
    "results = execute(dj_circuit, backend=backend, shots=shots).result()\n",
    "answer = results.get_counts()\n",
    "\n",
    "plot_histogram(answer)"
   ]
  },
  {
   "cell_type": "code",
   "execution_count": 18,
   "metadata": {},
   "outputs": [],
   "source": [
    "from qiskit import IBMQ\n",
    "\n",
    "\n",
    "IBMQ.save_account('b7c3d5261ffcdc9163d35371670119c46adb48436e35147c205928aa37c913fcbee976e715f8547f637f98adaff39dee787ff1b5038bac14d34fd69cd8937e28', overwrite=True)"
   ]
  },
  {
   "cell_type": "code",
   "execution_count": 20,
   "metadata": {},
   "outputs": [
    {
     "name": "stderr",
     "output_type": "stream",
     "text": [
      "ibmqfactory.load_account:WARNING:2021-06-21 18:09:27,175: Credentials are already in use. The existing account in the session will be replaced.\n"
     ]
    }
   ],
   "source": [
    "provider=IBMQ.load_account()\n",
    "backend=provider.get_backend('ibmq_athens')"
   ]
  },
  {
   "cell_type": "code",
   "execution_count": 13,
   "metadata": {},
   "outputs": [],
   "source": [
    "job = execute(dj_circuit, backend=backend, shots=1024)\n",
    "counts=job.result().get_counts()"
   ]
  },
  {
   "cell_type": "code",
   "execution_count": 14,
   "metadata": {},
   "outputs": [
    {
     "name": "stdout",
     "output_type": "stream",
     "text": [
      "Job Status: job has successfully run\n"
     ]
    }
   ],
   "source": [
    "from qiskit.tools import job_monitor\n",
    "job_monitor(job)\n"
   ]
  },
  {
   "cell_type": "code",
   "execution_count": 15,
   "metadata": {},
   "outputs": [
    {
     "data": {
      "text/plain": [
       "<JobStatus.DONE: 'job has successfully run'>"
      ]
     },
     "execution_count": 15,
     "metadata": {},
     "output_type": "execute_result"
    }
   ],
   "source": [
    "job.status()"
   ]
  },
  {
   "cell_type": "code",
   "execution_count": 16,
   "metadata": {},
   "outputs": [
    {
     "data": {
      "image/png": "[encoded data removed]",
      "text/plain": [
       "<Figure size 504x360 with 1 Axes>"
      ]
     },
     "execution_count": 16,
     "metadata": {},
     "output_type": "execute_result"
    }
   ],
   "source": [
    "plot_histogram(counts)"
   ]
  },
  {
   "cell_type": "code",
   "execution_count": null,
   "metadata": {},
   "outputs": [],
   "source": []
  }
 ],
 "metadata": {
  "kernelspec": {
   "display_name": "Python 3",
   "language": "python",
   "name": "python3"
  },
  "language_info": {
   "codemirror_mode": {
    "name": "ipython",
    "version": 3
   },
   "file_extension": ".py",
   "mimetype": "text/x-python",
   "name": "python",
   "nbconvert_exporter": "python",
   "pygments_lexer": "ipython3",
   "version": "3.8.3"
  }
 },
 "nbformat": 4,
 "nbformat_minor": 4
}
