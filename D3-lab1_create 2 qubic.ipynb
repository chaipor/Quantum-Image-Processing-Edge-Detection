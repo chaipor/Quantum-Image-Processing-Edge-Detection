{
 "cells": [
  {
   "cell_type": "code",
   "execution_count": 1,
   "id": "e2b713bc",
   "metadata": {},
   "outputs": [],
   "source": [
    "from qiskit import QuantumCircuit\n",
    "\n",
    "circuit = QuantumCircuit(2,2) # 2 qubits, 2 classical bits "
   ]
  },
  {
   "cell_type": "code",
   "execution_count": 2,
   "id": "6c1b053d",
   "metadata": {},
   "outputs": [
    {
     "data": {
      "text/plain": [
       "<qiskit.circuit.instructionset.InstructionSet at 0x160255ddc70>"
      ]
     },
     "execution_count": 2,
     "metadata": {},
     "output_type": "execute_result"
    }
   ],
   "source": [
    "circuit.x(0) # “x” is a “not” gate. It flips the value. Starting value is a 0, so this flips to a 1. \n",
    "circuit.cx(0, 1) #cnot, controlled not, Flips 2nd qubit’s value if first qubit is 1\n",
    "circuit.measure([0,1], [0,1]) # ([qbitregister], [classicalbitregister]) Measure qubit 0 and 1 to classical bits 0 and 1"
   ]
  },
  {
   "cell_type": "code",
   "execution_count": 3,
   "id": "bf35fb54",
   "metadata": {},
   "outputs": [
    {
     "data": {
      "text/html": [
       "<pre style=\"word-wrap: normal;white-space: pre;background: #fff0;line-height: 1.1;font-family: &quot;Courier New&quot;,Courier,monospace\">     ┌───┐     ┌─┐   \n",
       "q_0: ┤ X ├──■──┤M├───\n",
       "     └───┘┌─┴─┐└╥┘┌─┐\n",
       "q_1: ─────┤ X ├─╫─┤M├\n",
       "          └───┘ ║ └╥┘\n",
       "c: 2/═══════════╩══╩═\n",
       "                0  1 </pre>"
      ],
      "text/plain": [
       "     ┌───┐     ┌─┐   \n",
       "q_0: ┤ X ├──■──┤M├───\n",
       "     └───┘┌─┴─┐└╥┘┌─┐\n",
       "q_1: ─────┤ X ├─╫─┤M├\n",
       "          └───┘ ║ └╥┘\n",
       "c: 2/═══════════╩══╩═\n",
       "                0  1 "
      ]
     },
     "execution_count": 3,
     "metadata": {},
     "output_type": "execute_result"
    }
   ],
   "source": [
    "circuit.draw() # text-based visualization. (pretty cool …actually! Nice job whoever did this.)"
   ]
  },
  {
   "cell_type": "code",
   "execution_count": 4,
   "id": "8f19530c",
   "metadata": {},
   "outputs": [
    {
     "data": {
      "image/png": "[encoded data removed]",
      "text/plain": [
       "<Figure size 327.252x204.68 with 1 Axes>"
      ]
     },
     "execution_count": 4,
     "metadata": {},
     "output_type": "execute_result"
    }
   ],
   "source": [
    "circuit.draw(output='mpl') # mpl-based visualization. (pretty cool …actually! Nice job whoever did this.)"
   ]
  },
  {
   "cell_type": "code",
   "execution_count": 5,
   "id": "b7ae41e0",
   "metadata": {},
   "outputs": [],
   "source": [
    "from qiskit_ibm_runtime import QiskitRuntimeService\n",
    " \n",
    "# Save an IBM Quantum account.\n",
    "QiskitRuntimeService.save_account(channel=\"ibm_quantum\", token=\"0cf1fc8bbf33adb8b087bbf30f7c7cb761201b704814ee053718104ae51b4ab79afa5f5e2c9af86465d037b552d319203b93b9059310fd6062fa3738cca5a7be\" , overwrite=True)"
   ]
  },
  {
   "cell_type": "code",
   "execution_count": 6,
   "id": "c50d4e34",
   "metadata": {},
   "outputs": [],
   "source": [
    "# Load saved credentials\n",
    "service = QiskitRuntimeService()"
   ]
  },
  {
   "cell_type": "code",
   "execution_count": null,
   "id": "6ed32447",
   "metadata": {},
   "outputs": [
    {
     "name": "stdout",
     "output_type": "stream",
     "text": [
      "Job ID is cmjgnbn0t6t00085ygh0\n"
     ]
    }
   ],
   "source": [
    "from qiskit_ibm_runtime import QiskitRuntimeService, Options, Sampler\n",
    "from qiskit import QuantumCircuit\n",
    "\n",
    "options = Options(optimization_level=1)\n",
    "options.execution.shots = 1024  # Options can be set using auto-complete.\n",
    "\n",
    "# 1. A quantum circuit for preparing the quantum state (|00> + |11>)/rt{2}\n",
    "bell = QuantumCircuit(2)\n",
    "bell.h(0)\n",
    "bell.cx(0, 1)\n",
    "\n",
    "# 2. Map the qubits to a classical register in ascending order\n",
    "bell.measure_all()\n",
    "\n",
    "# 3. Execute using the Sampler primitive\n",
    "backend = service.get_backend('ibm_lagos')\n",
    "sampler = Sampler(backend=backend, options=options)\n",
    "job = sampler.run(circuits=bell)\n",
    "print(f\"Job ID is {job.job_id()}\")\n",
    "print(f\"Job result is {job.result()}\")"
   ]
  }
 ],
 "metadata": {
  "kernelspec": {
   "display_name": "Python 3 (ipykernel)",
   "language": "python",
   "name": "python3"
  },
  "language_info": {
   "codemirror_mode": {
    "name": "ipython",
    "version": 3
   },
   "file_extension": ".py",
   "mimetype": "text/x-python",
   "name": "python",
   "nbconvert_exporter": "python",
   "pygments_lexer": "ipython3",
   "version": "3.9.12"
  }
 },
 "nbformat": 4,
 "nbformat_minor": 5
}
